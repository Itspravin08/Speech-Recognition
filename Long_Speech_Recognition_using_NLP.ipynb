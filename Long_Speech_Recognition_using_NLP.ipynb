{
  "nbformat": 4,
  "nbformat_minor": 0,
  "metadata": {
    "colab": {
      "name": "Long Speech Recognition using NLP.ipynb",
      "provenance": [],
      "collapsed_sections": []
    },
    "kernelspec": {
      "name": "python3",
      "display_name": "Python 3"
    },
    "language_info": {
      "name": "python"
    }
  },
  "cells": [
    {
      "cell_type": "code",
      "source": [
        "!pip install pydub"
      ],
      "metadata": {
        "colab": {
          "base_uri": "https://localhost:8080/"
        },
        "id": "-zzlcp_2bFgc",
        "outputId": "81875caf-b437-4076-f571-f94b328af385"
      },
      "execution_count": null,
      "outputs": [
        {
          "output_type": "stream",
          "name": "stdout",
          "text": [
            "Looking in indexes: https://pypi.org/simple, https://us-python.pkg.dev/colab-wheels/public/simple/\n",
            "Requirement already satisfied: pydub in /usr/local/lib/python3.7/dist-packages (0.25.1)\n"
          ]
        }
      ]
    },
    {
      "cell_type": "code",
      "source": [
        "!pip install SpeechRecognition"
      ],
      "metadata": {
        "colab": {
          "base_uri": "https://localhost:8080/"
        },
        "id": "cL9_Vyg5bl47",
        "outputId": "4e47e98b-a502-4da0-f2da-65eee2c8de97"
      },
      "execution_count": null,
      "outputs": [
        {
          "output_type": "stream",
          "name": "stdout",
          "text": [
            "Looking in indexes: https://pypi.org/simple, https://us-python.pkg.dev/colab-wheels/public/simple/\n",
            "Requirement already satisfied: SpeechRecognition in /usr/local/lib/python3.7/dist-packages (3.8.1)\n"
          ]
        }
      ]
    },
    {
      "cell_type": "code",
      "execution_count": null,
      "metadata": {
        "id": "Hg8zHHInaw0Z"
      },
      "outputs": [],
      "source": [
        "from pydub import AudioSegment\n",
        "from pydub.utils import make_chunks\n",
        "import os\n",
        "import speech_recognition as sr"
      ]
    },
    {
      "cell_type": "code",
      "source": [
        "def Process_audio(filename):\n",
        "  txtf = open(\"the_audio.txt\",\"w+\")\n",
        "  myaudio = AudioSegment.from_wav(filename)\n",
        "  chunks_length_ms = 9000\n",
        "  chunks = make_chunks(myaudio, chunks_length_ms)\n",
        "\n",
        "  for i , chunk in enumerate(chunks):\n",
        "    chunkName = '/content/chunked/'+filename+\"_{0}.wav\".format(i)\n",
        "    print('I am exporting',chunkName)\n",
        "    chunk.export(chunkName, format=\"wav\")\n",
        "    file = chunkName\n",
        "\n",
        "    r = sr.Recognizer()\n",
        "    with sr.AudioFile(file) as source:\n",
        "      audio_listened = r.listen(source)\n",
        "\n",
        "    try:\n",
        "      rec = r.recognize_google(audio_listened)\n",
        "      txtf.write(rec+\" , \")\n",
        "\n",
        "    except sr.UnknownValueError:\n",
        "      print(\"I don't recognize your Audio\")\n",
        "    except sr.RequestError as e:\n",
        "      print(\"Could not get the result. check you internet\")\n",
        "\n",
        "try:\n",
        "  os.makedirs(\"chunked\")\n",
        "except:\n",
        "  pass\n",
        "\n",
        "Process_audio(\"sales_call_telephone_marketers.wav\")\n"
      ],
      "metadata": {
        "id": "GD96K_NXb7v6",
        "colab": {
          "base_uri": "https://localhost:8080/"
        },
        "outputId": "52a9fd52-9578-4986-afc1-62fca13ac8cd"
      },
      "execution_count": null,
      "outputs": [
        {
          "output_type": "stream",
          "name": "stdout",
          "text": [
            "I am exporting /content/chunked/sales_call_telephone_marketers.wav_0.wav\n",
            "I am exporting /content/chunked/sales_call_telephone_marketers.wav_1.wav\n",
            "I am exporting /content/chunked/sales_call_telephone_marketers.wav_2.wav\n",
            "I am exporting /content/chunked/sales_call_telephone_marketers.wav_3.wav\n",
            "I am exporting /content/chunked/sales_call_telephone_marketers.wav_4.wav\n",
            "I am exporting /content/chunked/sales_call_telephone_marketers.wav_5.wav\n",
            "I don't recognize your Audio\n"
          ]
        }
      ]
    }
  ]
}